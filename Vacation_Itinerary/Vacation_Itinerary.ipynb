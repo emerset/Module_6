{
 "cells": [
  {
   "cell_type": "markdown",
   "metadata": {},
   "source": [
    "# Deliverable 3. Create a Travel Itinerary Map.\n",
    "----\n",
    "1. Import the vacation CSV file. \n",
    "2. From the map above with pick 4 cities that are in close proximity (on the same continent) that the customer would travel to and create a directions layer map.\n",
    "3. For the \"travel_mode\" use either \"DRIVING\", \"BICYCLING\", or \"WALKING\".\n",
    "4. Take a screenshot of the route and save it. \n",
    "5. Then create a marker layer for the four cities. Each city will should have a pop-up marker that contains\n",
    "    - The hotel name\n",
    "    - The city\n",
    "    - The country\n",
    "    - The current weather description and the maximum temperature\n",
    "---"
   ]
  },
  {
   "cell_type": "markdown",
   "metadata": {},
   "source": [
    "## Make sure the initial dependencies and the Google API key are imported."
   ]
  },
  {
   "cell_type": "code",
   "execution_count": 1,
   "metadata": {},
   "outputs": [],
   "source": [
    "# Dependencies and Setup\n",
    "import pandas as pd\n",
    "import requests\n",
    "import gmaps\n",
    "import gmaps.datasets\n",
    "\n",
    "# Import API key\n",
    "from config import g_key"
   ]
  },
  {
   "cell_type": "code",
   "execution_count": 2,
   "metadata": {},
   "outputs": [],
   "source": [
    "# Configure gmaps\n",
    "gmaps.configure(api_key=g_key)"
   ]
  },
  {
   "cell_type": "markdown",
   "metadata": {},
   "source": [
    "## From your `Vacation_Search` folder from Deliverable 2, import the `WeatherPy_vacation.csv` file as a DataFrame named `vacation_df`"
   ]
  },
  {
   "cell_type": "code",
   "execution_count": 3,
   "metadata": {},
   "outputs": [
    {
     "data": {
      "text/html": [
       "<div>\n",
       "<style scoped>\n",
       "    .dataframe tbody tr th:only-of-type {\n",
       "        vertical-align: middle;\n",
       "    }\n",
       "\n",
       "    .dataframe tbody tr th {\n",
       "        vertical-align: top;\n",
       "    }\n",
       "\n",
       "    .dataframe thead th {\n",
       "        text-align: right;\n",
       "    }\n",
       "</style>\n",
       "<table border=\"1\" class=\"dataframe\">\n",
       "  <thead>\n",
       "    <tr style=\"text-align: right;\">\n",
       "      <th></th>\n",
       "      <th>City_ID</th>\n",
       "      <th>City_ID.1</th>\n",
       "      <th>City</th>\n",
       "      <th>Country</th>\n",
       "      <th>Lat</th>\n",
       "      <th>Lng</th>\n",
       "      <th>Max Temp</th>\n",
       "      <th>Humidity</th>\n",
       "      <th>Cloudiness</th>\n",
       "      <th>Wind Speed</th>\n",
       "      <th>Weather</th>\n",
       "      <th>Hotel Name</th>\n",
       "    </tr>\n",
       "  </thead>\n",
       "  <tbody>\n",
       "    <tr>\n",
       "      <th>0</th>\n",
       "      <td>0</td>\n",
       "      <td>0</td>\n",
       "      <td>Road Town</td>\n",
       "      <td>VG</td>\n",
       "      <td>18.4167</td>\n",
       "      <td>-64.6167</td>\n",
       "      <td>87.89</td>\n",
       "      <td>79</td>\n",
       "      <td>75</td>\n",
       "      <td>11.50</td>\n",
       "      <td>broken clouds</td>\n",
       "      <td>ZINGARA 76ft Catamaran, full crew-all included</td>\n",
       "    </tr>\n",
       "    <tr>\n",
       "      <th>1</th>\n",
       "      <td>2</td>\n",
       "      <td>2</td>\n",
       "      <td>Itarema</td>\n",
       "      <td>BR</td>\n",
       "      <td>-2.9248</td>\n",
       "      <td>-39.9167</td>\n",
       "      <td>86.95</td>\n",
       "      <td>56</td>\n",
       "      <td>6</td>\n",
       "      <td>18.68</td>\n",
       "      <td>clear sky</td>\n",
       "      <td>Sea Lounge! Bar, Club &amp; Restaurant</td>\n",
       "    </tr>\n",
       "    <tr>\n",
       "      <th>2</th>\n",
       "      <td>4</td>\n",
       "      <td>4</td>\n",
       "      <td>Dwarka</td>\n",
       "      <td>IN</td>\n",
       "      <td>22.2394</td>\n",
       "      <td>68.9678</td>\n",
       "      <td>83.19</td>\n",
       "      <td>68</td>\n",
       "      <td>75</td>\n",
       "      <td>11.59</td>\n",
       "      <td>broken clouds</td>\n",
       "      <td>Hotel Narayan Avezika Comfort</td>\n",
       "    </tr>\n",
       "    <tr>\n",
       "      <th>3</th>\n",
       "      <td>7</td>\n",
       "      <td>7</td>\n",
       "      <td>Sur</td>\n",
       "      <td>OM</td>\n",
       "      <td>22.5667</td>\n",
       "      <td>59.5289</td>\n",
       "      <td>86.70</td>\n",
       "      <td>53</td>\n",
       "      <td>0</td>\n",
       "      <td>4.74</td>\n",
       "      <td>clear sky</td>\n",
       "      <td>Sur Plaza Hotel</td>\n",
       "    </tr>\n",
       "    <tr>\n",
       "      <th>4</th>\n",
       "      <td>10</td>\n",
       "      <td>10</td>\n",
       "      <td>Karratha</td>\n",
       "      <td>AU</td>\n",
       "      <td>-20.7377</td>\n",
       "      <td>116.8463</td>\n",
       "      <td>76.75</td>\n",
       "      <td>57</td>\n",
       "      <td>10</td>\n",
       "      <td>15.90</td>\n",
       "      <td>clear sky</td>\n",
       "      <td>ibis Styles Karratha</td>\n",
       "    </tr>\n",
       "    <tr>\n",
       "      <th>...</th>\n",
       "      <td>...</td>\n",
       "      <td>...</td>\n",
       "      <td>...</td>\n",
       "      <td>...</td>\n",
       "      <td>...</td>\n",
       "      <td>...</td>\n",
       "      <td>...</td>\n",
       "      <td>...</td>\n",
       "      <td>...</td>\n",
       "      <td>...</td>\n",
       "      <td>...</td>\n",
       "      <td>...</td>\n",
       "    </tr>\n",
       "    <tr>\n",
       "      <th>190</th>\n",
       "      <td>649</td>\n",
       "      <td>649</td>\n",
       "      <td>Santiago De Cuba</td>\n",
       "      <td>CU</td>\n",
       "      <td>20.0247</td>\n",
       "      <td>-75.8219</td>\n",
       "      <td>82.51</td>\n",
       "      <td>74</td>\n",
       "      <td>20</td>\n",
       "      <td>9.22</td>\n",
       "      <td>few clouds</td>\n",
       "      <td>Cubanacan San Felix</td>\n",
       "    </tr>\n",
       "    <tr>\n",
       "      <th>191</th>\n",
       "      <td>652</td>\n",
       "      <td>652</td>\n",
       "      <td>Mabaruma</td>\n",
       "      <td>GY</td>\n",
       "      <td>8.2000</td>\n",
       "      <td>-59.7833</td>\n",
       "      <td>87.80</td>\n",
       "      <td>59</td>\n",
       "      <td>45</td>\n",
       "      <td>5.59</td>\n",
       "      <td>scattered clouds</td>\n",
       "      <td>Monty Brooms Guest House</td>\n",
       "    </tr>\n",
       "    <tr>\n",
       "      <th>192</th>\n",
       "      <td>653</td>\n",
       "      <td>653</td>\n",
       "      <td>Tual</td>\n",
       "      <td>ID</td>\n",
       "      <td>-5.6667</td>\n",
       "      <td>132.7500</td>\n",
       "      <td>83.35</td>\n",
       "      <td>78</td>\n",
       "      <td>100</td>\n",
       "      <td>16.89</td>\n",
       "      <td>overcast clouds</td>\n",
       "      <td>Grand Vilia Hotel</td>\n",
       "    </tr>\n",
       "    <tr>\n",
       "      <th>193</th>\n",
       "      <td>658</td>\n",
       "      <td>658</td>\n",
       "      <td>Buchanan</td>\n",
       "      <td>LR</td>\n",
       "      <td>5.8808</td>\n",
       "      <td>-10.0467</td>\n",
       "      <td>81.63</td>\n",
       "      <td>73</td>\n",
       "      <td>78</td>\n",
       "      <td>8.90</td>\n",
       "      <td>light rain</td>\n",
       "      <td>Kamaneahn Hotel Inc</td>\n",
       "    </tr>\n",
       "    <tr>\n",
       "      <th>194</th>\n",
       "      <td>663</td>\n",
       "      <td>663</td>\n",
       "      <td>Vasai</td>\n",
       "      <td>IN</td>\n",
       "      <td>19.4700</td>\n",
       "      <td>72.8000</td>\n",
       "      <td>82.49</td>\n",
       "      <td>78</td>\n",
       "      <td>100</td>\n",
       "      <td>4.83</td>\n",
       "      <td>overcast clouds</td>\n",
       "      <td>Jivdani Kripa</td>\n",
       "    </tr>\n",
       "  </tbody>\n",
       "</table>\n",
       "<p>195 rows × 12 columns</p>\n",
       "</div>"
      ],
      "text/plain": [
       "     City_ID  City_ID.1              City Country      Lat       Lng  \\\n",
       "0          0          0         Road Town      VG  18.4167  -64.6167   \n",
       "1          2          2           Itarema      BR  -2.9248  -39.9167   \n",
       "2          4          4            Dwarka      IN  22.2394   68.9678   \n",
       "3          7          7               Sur      OM  22.5667   59.5289   \n",
       "4         10         10          Karratha      AU -20.7377  116.8463   \n",
       "..       ...        ...               ...     ...      ...       ...   \n",
       "190      649        649  Santiago De Cuba      CU  20.0247  -75.8219   \n",
       "191      652        652          Mabaruma      GY   8.2000  -59.7833   \n",
       "192      653        653              Tual      ID  -5.6667  132.7500   \n",
       "193      658        658          Buchanan      LR   5.8808  -10.0467   \n",
       "194      663        663             Vasai      IN  19.4700   72.8000   \n",
       "\n",
       "     Max Temp  Humidity  Cloudiness  Wind Speed           Weather  \\\n",
       "0       87.89        79          75       11.50     broken clouds   \n",
       "1       86.95        56           6       18.68         clear sky   \n",
       "2       83.19        68          75       11.59     broken clouds   \n",
       "3       86.70        53           0        4.74         clear sky   \n",
       "4       76.75        57          10       15.90         clear sky   \n",
       "..        ...       ...         ...         ...               ...   \n",
       "190     82.51        74          20        9.22        few clouds   \n",
       "191     87.80        59          45        5.59  scattered clouds   \n",
       "192     83.35        78         100       16.89   overcast clouds   \n",
       "193     81.63        73          78        8.90        light rain   \n",
       "194     82.49        78         100        4.83   overcast clouds   \n",
       "\n",
       "                                         Hotel Name  \n",
       "0    ZINGARA 76ft Catamaran, full crew-all included  \n",
       "1                Sea Lounge! Bar, Club & Restaurant  \n",
       "2                     Hotel Narayan Avezika Comfort  \n",
       "3                                   Sur Plaza Hotel  \n",
       "4                              ibis Styles Karratha  \n",
       "..                                              ...  \n",
       "190                             Cubanacan San Felix  \n",
       "191                        Monty Brooms Guest House  \n",
       "192                               Grand Vilia Hotel  \n",
       "193                             Kamaneahn Hotel Inc  \n",
       "194                                   Jivdani Kripa  \n",
       "\n",
       "[195 rows x 12 columns]"
      ]
     },
     "execution_count": 3,
     "metadata": {},
     "output_type": "execute_result"
    }
   ],
   "source": [
    "# Read the WeatherPy_vacation.csv into a DataFrame\n",
    "vacation_df = pd.read_csv(\"../Vacation_Search/WeatherPy_vacation.csv\")\n",
    "\n",
    "# Display sample data\n",
    "vacation_df"
   ]
  },
  {
   "cell_type": "markdown",
   "metadata": {},
   "source": [
    "**Note:** If the resulting DataFrame is empty, uncomment the following code to load sample data into the `clean_hotel_df`."
   ]
  },
  {
   "cell_type": "code",
   "execution_count": 4,
   "metadata": {},
   "outputs": [],
   "source": [
    "# In case of an empty DataFrame, load the sample data provided\n",
    "# clean_hotel_df = pd.read_csv(\"WeatherPy_vacation-backup.csv\")\n",
    "# clean_hotel_df.head(10)"
   ]
  },
  {
   "cell_type": "markdown",
   "metadata": {
    "tags": []
   },
   "source": [
    "## In this step, you will set-up the pop-up markers. Review the code to create a marker layer map of the vacation search results. This code is the same as in Deliverable 2."
   ]
  },
  {
   "cell_type": "code",
   "execution_count": 5,
   "metadata": {},
   "outputs": [],
   "source": [
    "# Review the formatting template\n",
    "info_box_template = \"\"\"\n",
    "<dl>\n",
    "<dt>Hotel Name</dt><dd>{Hotel Name}</dd>\n",
    "<dt>City</dt><dd>{City}</dd>\n",
    "<dt>Country</dt><dd>{Country}</dd>\n",
    "<dt>Current Weather</dt><dd>{Weather} and {Max Temp} °F</dd>\n",
    "</dl>\n",
    "\"\"\"\n",
    "\n",
    "# Get the data from each row and add it to the formatting template and store the data in a list\n",
    "hotel_info = [info_box_template.format(**row) for index, row in vacation_df.iterrows()]\n",
    "\n",
    "# Get the latitude and longitude from each row and store in a new DataFrame.\n",
    "locations = vacation_df[[\"Lat\", \"Lng\"]]"
   ]
  },
  {
   "cell_type": "code",
   "execution_count": 6,
   "metadata": {},
   "outputs": [
    {
     "data": {
      "application/vnd.jupyter.widget-view+json": {
       "model_id": "699e32ee70204122a6b748b74889b255",
       "version_major": 2,
       "version_minor": 0
      },
      "text/plain": [
       "Figure(layout=FigureLayout(height='420px'))"
      ]
     },
     "metadata": {},
     "output_type": "display_data"
    }
   ],
   "source": [
    "# Add a marker layer for each city to the map.\n",
    "marker_layer = gmaps.marker_layer(locations, info_box_content=hotel_info)\n",
    "fig = gmaps.figure()\n",
    "fig.add_layer(marker_layer)\n",
    "\n",
    "# Display the figure\n",
    "fig"
   ]
  },
  {
   "cell_type": "markdown",
   "metadata": {},
   "source": [
    "## From the vacation search map, *choose four cities* that a customer might want to visit. They should be close together and in the same country."
   ]
  },
  {
   "cell_type": "code",
   "execution_count": 7,
   "metadata": {},
   "outputs": [],
   "source": [
    "# Create DataFrames for each city by filtering the 'vacation_df' using the loc method. \n",
    "# The starting and ending city should be the same city.\n",
    "vacation_start = vacation_df.loc[vacation_df[\"City\"] == \"Belmonte\"]\n",
    "vacation_end = vacation_df.loc[(vacation_df[\"City\"] == \"Belmonte\")]\n",
    "vacation_stop1 = vacation_df.loc[(vacation_df[\"City\"] == \"Mascote\")]\n",
    "vacation_stop2 = vacation_df.loc[(vacation_df[\"City\"] == \"Prado\")]\n",
    "vacation_stop3 = vacation_df.loc[(vacation_df[\"City\"] == \"Caravelas\")]"
   ]
  },
  {
   "cell_type": "markdown",
   "metadata": {},
   "source": [
    "## Use the `to_numpy()` function and list indexing to write code to retrieve the latitude-longitude pairs as tuples from each city DataFrame."
   ]
  },
  {
   "cell_type": "code",
   "execution_count": 8,
   "metadata": {},
   "outputs": [],
   "source": [
    "# Get the latitude-longitude pairs as tuples from each city DataFrame using the to_numpy function and list indexing.\n",
    "start = vacation_start[[\"Lat\", \"Lng\"]].to_numpy()\n",
    "end = tuple(vacation_end[[\"Lat\", \"Lng\"]].to_numpy())\n",
    "stop1 = tuple(vacation_stop1[[\"Lat\",\"Lng\"]].to_numpy())\n",
    "stop2 = tuple(vacation_stop2[[\"Lat\",\"Lng\"]].to_numpy())\n",
    "stop3 = tuple(vacation_stop3[[\"Lat\",\"Lng\"]].to_numpy())\n",
    "\n",
    "start_tuple = tuple(start[0])\n",
    "end_tuple = tuple(end[0])\n",
    "stop1_tuple = tuple(stop1[0])\n",
    "stop2_tuple = tuple(stop2[0])\n",
    "stop3_tuple = tuple(stop3[0])"
   ]
  },
  {
   "cell_type": "markdown",
   "metadata": {},
   "source": [
    "## Use the [gmaps documentation](https://jupyter-gmaps.readthedocs.io/en/latest/tutorial.html#directions-layer) to create a directions layer map using the variables from the previous step. Where the starting and ending city are the same city, the `waypoints` are the three other cities, and the `travel_mode` is either `\"DRIVING\"`, `\"BICYCLING\"`, or `\"WALKING\"`."
   ]
  },
  {
   "cell_type": "code",
   "execution_count": 15,
   "metadata": {
    "tags": []
   },
   "outputs": [
    {
     "data": {
      "application/vnd.jupyter.widget-view+json": {
       "model_id": "fa76b9a4f6424806bad20591e6c7bbbd",
       "version_major": 2,
       "version_minor": 0
      },
      "text/plain": [
       "Figure(layout=FigureLayout(height='420px'))"
      ]
     },
     "metadata": {},
     "output_type": "display_data"
    }
   ],
   "source": [
    "# Define a new figure object\n",
    "fig = gmaps.figure()\n",
    "\n",
    "# Create a direction layer map using the start and end latitude-longitude pairs, and stop1, stop2, and stop3 as the waypoints.\n",
    "# The travel_mode should be \"DRIVING\", \"BICYCLING\", or \"WALKING\".\n",
    "vacation_itinerary = gmaps.directions_layer(\n",
    "    start_tuple,\n",
    "    end_tuple,\n",
    "    waypoints=[stop1_tuple,stop2_tuple,stop3_tuple],\n",
    "    travel_mode='DRIVING')\n",
    "\n",
    "# Add the layer to the map\n",
    "fig.add_layer(vacation_itinerary)\n",
    "\n",
    "# Display the map\n",
    "fig"
   ]
  },
  {
   "cell_type": "markdown",
   "metadata": {},
   "source": [
    "## Use the provided `concat()` function code snippet to combine the four separate city DataFrames into one DataFrame."
   ]
  },
  {
   "cell_type": "code",
   "execution_count": 16,
   "metadata": {},
   "outputs": [
    {
     "data": {
      "text/html": [
       "<div>\n",
       "<style scoped>\n",
       "    .dataframe tbody tr th:only-of-type {\n",
       "        vertical-align: middle;\n",
       "    }\n",
       "\n",
       "    .dataframe tbody tr th {\n",
       "        vertical-align: top;\n",
       "    }\n",
       "\n",
       "    .dataframe thead th {\n",
       "        text-align: right;\n",
       "    }\n",
       "</style>\n",
       "<table border=\"1\" class=\"dataframe\">\n",
       "  <thead>\n",
       "    <tr style=\"text-align: right;\">\n",
       "      <th></th>\n",
       "      <th>City_ID</th>\n",
       "      <th>City_ID.1</th>\n",
       "      <th>City</th>\n",
       "      <th>Country</th>\n",
       "      <th>Lat</th>\n",
       "      <th>Lng</th>\n",
       "      <th>Max Temp</th>\n",
       "      <th>Humidity</th>\n",
       "      <th>Cloudiness</th>\n",
       "      <th>Wind Speed</th>\n",
       "      <th>Weather</th>\n",
       "      <th>Hotel Name</th>\n",
       "    </tr>\n",
       "  </thead>\n",
       "  <tbody>\n",
       "    <tr>\n",
       "      <th>0</th>\n",
       "      <td>176</td>\n",
       "      <td>176</td>\n",
       "      <td>Belmonte</td>\n",
       "      <td>BR</td>\n",
       "      <td>-15.8631</td>\n",
       "      <td>-38.8828</td>\n",
       "      <td>79.09</td>\n",
       "      <td>71</td>\n",
       "      <td>100</td>\n",
       "      <td>5.14</td>\n",
       "      <td>overcast clouds</td>\n",
       "      <td>Pousada Monte Carmelo O Pão</td>\n",
       "    </tr>\n",
       "    <tr>\n",
       "      <th>1</th>\n",
       "      <td>563</td>\n",
       "      <td>563</td>\n",
       "      <td>Mascote</td>\n",
       "      <td>BR</td>\n",
       "      <td>-15.5631</td>\n",
       "      <td>-39.3025</td>\n",
       "      <td>81.30</td>\n",
       "      <td>64</td>\n",
       "      <td>100</td>\n",
       "      <td>3.18</td>\n",
       "      <td>overcast clouds</td>\n",
       "      <td>Fazenda Novo ORIENTE</td>\n",
       "    </tr>\n",
       "    <tr>\n",
       "      <th>2</th>\n",
       "      <td>64</td>\n",
       "      <td>64</td>\n",
       "      <td>Prado</td>\n",
       "      <td>BR</td>\n",
       "      <td>-17.3411</td>\n",
       "      <td>-39.2208</td>\n",
       "      <td>80.20</td>\n",
       "      <td>63</td>\n",
       "      <td>96</td>\n",
       "      <td>8.34</td>\n",
       "      <td>overcast clouds</td>\n",
       "      <td>INN CORNER RIVER - PRADO - BAHIA - HOUSING AND...</td>\n",
       "    </tr>\n",
       "    <tr>\n",
       "      <th>3</th>\n",
       "      <td>368</td>\n",
       "      <td>368</td>\n",
       "      <td>Caravelas</td>\n",
       "      <td>BR</td>\n",
       "      <td>-17.7125</td>\n",
       "      <td>-39.2481</td>\n",
       "      <td>82.20</td>\n",
       "      <td>57</td>\n",
       "      <td>92</td>\n",
       "      <td>7.49</td>\n",
       "      <td>overcast clouds</td>\n",
       "      <td>Pousada dos Navegantes</td>\n",
       "    </tr>\n",
       "  </tbody>\n",
       "</table>\n",
       "</div>"
      ],
      "text/plain": [
       "   City_ID  City_ID.1       City Country      Lat      Lng  Max Temp  \\\n",
       "0      176        176   Belmonte      BR -15.8631 -38.8828     79.09   \n",
       "1      563        563    Mascote      BR -15.5631 -39.3025     81.30   \n",
       "2       64         64      Prado      BR -17.3411 -39.2208     80.20   \n",
       "3      368        368  Caravelas      BR -17.7125 -39.2481     82.20   \n",
       "\n",
       "   Humidity  Cloudiness  Wind Speed          Weather  \\\n",
       "0        71         100        5.14  overcast clouds   \n",
       "1        64         100        3.18  overcast clouds   \n",
       "2        63          96        8.34  overcast clouds   \n",
       "3        57          92        7.49  overcast clouds   \n",
       "\n",
       "                                          Hotel Name  \n",
       "0                        Pousada Monte Carmelo O Pão  \n",
       "1                               Fazenda Novo ORIENTE  \n",
       "2  INN CORNER RIVER - PRADO - BAHIA - HOUSING AND...  \n",
       "3                             Pousada dos Navegantes  "
      ]
     },
     "execution_count": 16,
     "metadata": {},
     "output_type": "execute_result"
    }
   ],
   "source": [
    "#  Combine the four city DataFrames into one DataFrame using the concat() function.\n",
    "itinerary_df = pd.concat(\n",
    "    [\n",
    "        vacation_start,\n",
    "        vacation_stop1,\n",
    "        vacation_stop2,\n",
    "        vacation_stop3\n",
    "    ],\n",
    "    ignore_index = True\n",
    ")\n",
    "\n",
    "# Display sample data\n",
    "itinerary_df"
   ]
  },
  {
   "cell_type": "markdown",
   "metadata": {},
   "source": [
    "## Refactor the code from Step 6 to create a new marker layer map of the cities on the travel route."
   ]
  },
  {
   "cell_type": "code",
   "execution_count": 18,
   "metadata": {},
   "outputs": [],
   "source": [
    "# Review the formatting template\n",
    "info_box_template = \"\"\"\n",
    "<dl>\n",
    "<dt>Hotel Name</dt><dd>{Hotel Name}</dd>\n",
    "<dt>City</dt><dd>{City}</dd>\n",
    "<dt>Country</dt><dd>{Country}</dd>\n",
    "<dt>Current Weather</dt><dd>{Weather} and {Max Temp} °F</dd>\n",
    "</dl>\n",
    "\"\"\"\n",
    "\n",
    "# Get the data from each row and add it to the formatting template and store the data in a list\n",
    "hotel_info = [info_box_template.format(**row) for index, row in itinerary_df.iterrows()]\n",
    "\n",
    "# Get the latitude and longitude from each row and store in a new DataFrame.\n",
    "locations = itinerary_df[[\"Lat\", \"Lng\"]]"
   ]
  },
  {
   "cell_type": "code",
   "execution_count": 30,
   "metadata": {},
   "outputs": [
    {
     "data": {
      "application/vnd.jupyter.widget-view+json": {
       "model_id": "a1fc74ab1bbe4af1a7d8d62bf47674fe",
       "version_major": 2,
       "version_minor": 0
      },
      "text/plain": [
       "Figure(layout=FigureLayout(height='420px'))"
      ]
     },
     "metadata": {},
     "output_type": "display_data"
    }
   ],
   "source": [
    "# Add a marker layer for each city to the map.\n",
    "marker_layer = gmaps.marker_layer(locations, info_box_content=hotel_info)\n",
    "\n",
    "# Define a new figure object\n",
    "fig = gmaps.figure(center=(-17.0, -40.0), zoom_level=7)\n",
    "\n",
    "# Add the layer to the map\n",
    "fig.add_layer(marker_layer)\n",
    "\n",
    "# Display the map\n",
    "fig"
   ]
  },
  {
   "cell_type": "code",
   "execution_count": null,
   "metadata": {},
   "outputs": [],
   "source": []
  }
 ],
 "metadata": {
  "kernelspec": {
   "display_name": "Python 3 (ipykernel)",
   "language": "python",
   "name": "python3"
  },
  "language_info": {
   "codemirror_mode": {
    "name": "ipython",
    "version": 3
   },
   "file_extension": ".py",
   "mimetype": "text/x-python",
   "name": "python",
   "nbconvert_exporter": "python",
   "pygments_lexer": "ipython3",
   "version": "3.9.12"
  },
  "latex_envs": {
   "LaTeX_envs_menu_present": true,
   "autoclose": false,
   "autocomplete": true,
   "bibliofile": "biblio.bib",
   "cite_by": "apalike",
   "current_citInitial": 1,
   "eqLabelWithNumbers": true,
   "eqNumInitial": 1,
   "hotkeys": {
    "equation": "Ctrl-E",
    "itemize": "Ctrl-I"
   },
   "labels_anchors": false,
   "latex_user_defs": false,
   "report_style_numbering": false,
   "user_envs_cfg": false
  }
 },
 "nbformat": 4,
 "nbformat_minor": 4
}
